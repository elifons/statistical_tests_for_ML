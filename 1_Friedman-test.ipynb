{
 "cells": [
  {
   "cell_type": "code",
   "execution_count": 46,
   "metadata": {},
   "outputs": [],
   "source": [
    "import pandas as pd\n",
    "import numpy as np\n",
    "from scipy.stats import chi2\n",
    "from scipy.stats import f\n",
    "from scipy.stats import friedmanchisquare as friedman\n"
   ]
  },
  {
   "cell_type": "markdown",
   "metadata": {},
   "source": [
    "# Friedman Test"
   ]
  },
  {
   "cell_type": "markdown",
   "metadata": {},
   "source": [
    "This notebook shows the implementation of the Friedman test as explained in this [blog post](LINK).\n",
    "We will use a subset of the classification accuracies of multiple classifiers on the UCR datasets, provided by the [UEA & UCR Time Series Classification Repository](http://www.timeseriesclassification.com/index.php)."
   ]
  },
  {
   "cell_type": "code",
   "execution_count": 47,
   "metadata": {},
   "outputs": [
    {
     "data": {
      "text/html": [
       "<div>\n",
       "<style scoped>\n",
       "    .dataframe tbody tr th:only-of-type {\n",
       "        vertical-align: middle;\n",
       "    }\n",
       "\n",
       "    .dataframe tbody tr th {\n",
       "        vertical-align: top;\n",
       "    }\n",
       "\n",
       "    .dataframe thead th {\n",
       "        text-align: right;\n",
       "    }\n",
       "</style>\n",
       "<table border=\"1\" class=\"dataframe\">\n",
       "  <thead>\n",
       "    <tr style=\"text-align: right;\">\n",
       "      <th></th>\n",
       "      <th>TS-CHIEF</th>\n",
       "      <th>ROCKET</th>\n",
       "      <th>BOSS</th>\n",
       "      <th>WEASEL</th>\n",
       "      <th>Catch22</th>\n",
       "    </tr>\n",
       "    <tr>\n",
       "      <th></th>\n",
       "      <th></th>\n",
       "      <th></th>\n",
       "      <th></th>\n",
       "      <th></th>\n",
       "      <th></th>\n",
       "    </tr>\n",
       "  </thead>\n",
       "  <tbody>\n",
       "    <tr>\n",
       "      <th>Beef</th>\n",
       "      <td>0.632222</td>\n",
       "      <td>0.760000</td>\n",
       "      <td>0.612222</td>\n",
       "      <td>0.740000</td>\n",
       "      <td>0.473333</td>\n",
       "    </tr>\n",
       "    <tr>\n",
       "      <th>BME</th>\n",
       "      <td>0.996444</td>\n",
       "      <td>0.997333</td>\n",
       "      <td>0.865778</td>\n",
       "      <td>0.947778</td>\n",
       "      <td>0.904889</td>\n",
       "    </tr>\n",
       "    <tr>\n",
       "      <th>Car</th>\n",
       "      <td>0.878889</td>\n",
       "      <td>0.911667</td>\n",
       "      <td>0.848333</td>\n",
       "      <td>0.834444</td>\n",
       "      <td>0.746111</td>\n",
       "    </tr>\n",
       "    <tr>\n",
       "      <th>CBF</th>\n",
       "      <td>0.998444</td>\n",
       "      <td>0.995926</td>\n",
       "      <td>0.998926</td>\n",
       "      <td>0.979778</td>\n",
       "      <td>0.953667</td>\n",
       "    </tr>\n",
       "    <tr>\n",
       "      <th>Crop</th>\n",
       "      <td>0.762101</td>\n",
       "      <td>0.751685</td>\n",
       "      <td>0.685688</td>\n",
       "      <td>0.723825</td>\n",
       "      <td>0.653141</td>\n",
       "    </tr>\n",
       "    <tr>\n",
       "      <th>Fish</th>\n",
       "      <td>0.981524</td>\n",
       "      <td>0.974095</td>\n",
       "      <td>0.969714</td>\n",
       "      <td>0.950857</td>\n",
       "      <td>0.772571</td>\n",
       "    </tr>\n",
       "    <tr>\n",
       "      <th>Ham</th>\n",
       "      <td>0.805079</td>\n",
       "      <td>0.855238</td>\n",
       "      <td>0.837460</td>\n",
       "      <td>0.821270</td>\n",
       "      <td>0.693968</td>\n",
       "    </tr>\n",
       "    <tr>\n",
       "      <th>Meat</th>\n",
       "      <td>0.984444</td>\n",
       "      <td>0.988889</td>\n",
       "      <td>0.980556</td>\n",
       "      <td>0.976667</td>\n",
       "      <td>0.942778</td>\n",
       "    </tr>\n",
       "    <tr>\n",
       "      <th>Rock</th>\n",
       "      <td>0.832000</td>\n",
       "      <td>0.804667</td>\n",
       "      <td>0.802667</td>\n",
       "      <td>0.854667</td>\n",
       "      <td>0.705333</td>\n",
       "    </tr>\n",
       "    <tr>\n",
       "      <th>UMD</th>\n",
       "      <td>0.983333</td>\n",
       "      <td>0.982870</td>\n",
       "      <td>0.966435</td>\n",
       "      <td>0.932176</td>\n",
       "      <td>0.869444</td>\n",
       "    </tr>\n",
       "    <tr>\n",
       "      <th>Wine</th>\n",
       "      <td>0.898148</td>\n",
       "      <td>0.914198</td>\n",
       "      <td>0.892593</td>\n",
       "      <td>0.930247</td>\n",
       "      <td>0.700000</td>\n",
       "    </tr>\n",
       "    <tr>\n",
       "      <th>Yoga</th>\n",
       "      <td>0.872633</td>\n",
       "      <td>0.913844</td>\n",
       "      <td>0.910156</td>\n",
       "      <td>0.892378</td>\n",
       "      <td>0.803822</td>\n",
       "    </tr>\n",
       "  </tbody>\n",
       "</table>\n",
       "</div>"
      ],
      "text/plain": [
       "      TS-CHIEF    ROCKET      BOSS    WEASEL   Catch22\n",
       "                                                      \n",
       "Beef  0.632222  0.760000  0.612222  0.740000  0.473333\n",
       "BME   0.996444  0.997333  0.865778  0.947778  0.904889\n",
       "Car   0.878889  0.911667  0.848333  0.834444  0.746111\n",
       "CBF   0.998444  0.995926  0.998926  0.979778  0.953667\n",
       "Crop  0.762101  0.751685  0.685688  0.723825  0.653141\n",
       "Fish  0.981524  0.974095  0.969714  0.950857  0.772571\n",
       "Ham   0.805079  0.855238  0.837460  0.821270  0.693968\n",
       "Meat  0.984444  0.988889  0.980556  0.976667  0.942778\n",
       "Rock  0.832000  0.804667  0.802667  0.854667  0.705333\n",
       "UMD   0.983333  0.982870  0.966435  0.932176  0.869444\n",
       "Wine  0.898148  0.914198  0.892593  0.930247  0.700000\n",
       "Yoga  0.872633  0.913844  0.910156  0.892378  0.803822"
      ]
     },
     "execution_count": 47,
     "metadata": {},
     "output_type": "execute_result"
    }
   ],
   "source": [
    "# Open the csv file with the accuracies from 5 time-series classifiers on 12 datasets\n",
    "df = pd.read_csv(\"./data/ts_accs.csv\", index_col=\"TESTACC\")\n",
    "df.index.rename(\"\", inplace=True)\n",
    "df"
   ]
  },
  {
   "cell_type": "markdown",
   "metadata": {},
   "source": [
    "**Step 1:** rank each algorithm on each dataset. The best algorithm has the lowest ranking and worst algorithms has the highest."
   ]
  },
  {
   "cell_type": "code",
   "execution_count": 48,
   "metadata": {},
   "outputs": [
    {
     "data": {
      "text/html": [
       "<div>\n",
       "<style scoped>\n",
       "    .dataframe tbody tr th:only-of-type {\n",
       "        vertical-align: middle;\n",
       "    }\n",
       "\n",
       "    .dataframe tbody tr th {\n",
       "        vertical-align: top;\n",
       "    }\n",
       "\n",
       "    .dataframe thead th {\n",
       "        text-align: right;\n",
       "    }\n",
       "</style>\n",
       "<table border=\"1\" class=\"dataframe\">\n",
       "  <thead>\n",
       "    <tr style=\"text-align: right;\">\n",
       "      <th></th>\n",
       "      <th>TS-CHIEF</th>\n",
       "      <th>ROCKET</th>\n",
       "      <th>BOSS</th>\n",
       "      <th>WEASEL</th>\n",
       "      <th>Catch22</th>\n",
       "    </tr>\n",
       "    <tr>\n",
       "      <th></th>\n",
       "      <th></th>\n",
       "      <th></th>\n",
       "      <th></th>\n",
       "      <th></th>\n",
       "      <th></th>\n",
       "    </tr>\n",
       "  </thead>\n",
       "  <tbody>\n",
       "    <tr>\n",
       "      <th>Beef</th>\n",
       "      <td>3.0</td>\n",
       "      <td>1.0</td>\n",
       "      <td>4.0</td>\n",
       "      <td>2.0</td>\n",
       "      <td>5.0</td>\n",
       "    </tr>\n",
       "    <tr>\n",
       "      <th>BME</th>\n",
       "      <td>2.0</td>\n",
       "      <td>1.0</td>\n",
       "      <td>5.0</td>\n",
       "      <td>3.0</td>\n",
       "      <td>4.0</td>\n",
       "    </tr>\n",
       "    <tr>\n",
       "      <th>Car</th>\n",
       "      <td>2.0</td>\n",
       "      <td>1.0</td>\n",
       "      <td>3.0</td>\n",
       "      <td>4.0</td>\n",
       "      <td>5.0</td>\n",
       "    </tr>\n",
       "    <tr>\n",
       "      <th>CBF</th>\n",
       "      <td>2.0</td>\n",
       "      <td>3.0</td>\n",
       "      <td>1.0</td>\n",
       "      <td>4.0</td>\n",
       "      <td>5.0</td>\n",
       "    </tr>\n",
       "    <tr>\n",
       "      <th>Crop</th>\n",
       "      <td>1.0</td>\n",
       "      <td>2.0</td>\n",
       "      <td>4.0</td>\n",
       "      <td>3.0</td>\n",
       "      <td>5.0</td>\n",
       "    </tr>\n",
       "    <tr>\n",
       "      <th>Fish</th>\n",
       "      <td>1.0</td>\n",
       "      <td>2.0</td>\n",
       "      <td>3.0</td>\n",
       "      <td>4.0</td>\n",
       "      <td>5.0</td>\n",
       "    </tr>\n",
       "    <tr>\n",
       "      <th>Ham</th>\n",
       "      <td>4.0</td>\n",
       "      <td>1.0</td>\n",
       "      <td>2.0</td>\n",
       "      <td>3.0</td>\n",
       "      <td>5.0</td>\n",
       "    </tr>\n",
       "    <tr>\n",
       "      <th>Meat</th>\n",
       "      <td>2.0</td>\n",
       "      <td>1.0</td>\n",
       "      <td>3.0</td>\n",
       "      <td>4.0</td>\n",
       "      <td>5.0</td>\n",
       "    </tr>\n",
       "    <tr>\n",
       "      <th>Rock</th>\n",
       "      <td>2.0</td>\n",
       "      <td>3.0</td>\n",
       "      <td>4.0</td>\n",
       "      <td>1.0</td>\n",
       "      <td>5.0</td>\n",
       "    </tr>\n",
       "    <tr>\n",
       "      <th>UMD</th>\n",
       "      <td>1.0</td>\n",
       "      <td>2.0</td>\n",
       "      <td>3.0</td>\n",
       "      <td>4.0</td>\n",
       "      <td>5.0</td>\n",
       "    </tr>\n",
       "    <tr>\n",
       "      <th>Wine</th>\n",
       "      <td>3.0</td>\n",
       "      <td>2.0</td>\n",
       "      <td>4.0</td>\n",
       "      <td>1.0</td>\n",
       "      <td>5.0</td>\n",
       "    </tr>\n",
       "    <tr>\n",
       "      <th>Yoga</th>\n",
       "      <td>4.0</td>\n",
       "      <td>1.0</td>\n",
       "      <td>2.0</td>\n",
       "      <td>3.0</td>\n",
       "      <td>5.0</td>\n",
       "    </tr>\n",
       "  </tbody>\n",
       "</table>\n",
       "</div>"
      ],
      "text/plain": [
       "      TS-CHIEF  ROCKET  BOSS  WEASEL  Catch22\n",
       "                                             \n",
       "Beef       3.0     1.0   4.0     2.0      5.0\n",
       "BME        2.0     1.0   5.0     3.0      4.0\n",
       "Car        2.0     1.0   3.0     4.0      5.0\n",
       "CBF        2.0     3.0   1.0     4.0      5.0\n",
       "Crop       1.0     2.0   4.0     3.0      5.0\n",
       "Fish       1.0     2.0   3.0     4.0      5.0\n",
       "Ham        4.0     1.0   2.0     3.0      5.0\n",
       "Meat       2.0     1.0   3.0     4.0      5.0\n",
       "Rock       2.0     3.0   4.0     1.0      5.0\n",
       "UMD        1.0     2.0   3.0     4.0      5.0\n",
       "Wine       3.0     2.0   4.0     1.0      5.0\n",
       "Yoga       4.0     1.0   2.0     3.0      5.0"
      ]
     },
     "execution_count": 48,
     "metadata": {},
     "output_type": "execute_result"
    }
   ],
   "source": [
    "r = df.rank(axis=1, ascending=False)\n",
    "r"
   ]
  },
  {
   "cell_type": "markdown",
   "metadata": {},
   "source": [
    "**Step 2:** calculate the average rank of each method, which is just calculate the average of each individual column on the above table."
   ]
  },
  {
   "cell_type": "code",
   "execution_count": 49,
   "metadata": {},
   "outputs": [
    {
     "data": {
      "text/plain": [
       "TS-CHIEF    2.250000\n",
       "ROCKET      1.666667\n",
       "BOSS        3.166667\n",
       "WEASEL      3.000000\n",
       "Catch22     4.916667\n",
       "dtype: float64"
      ]
     },
     "execution_count": 49,
     "metadata": {},
     "output_type": "execute_result"
    }
   ],
   "source": [
    "R = r.mean(axis=0)\n",
    "R"
   ]
  },
  {
   "cell_type": "markdown",
   "metadata": {},
   "source": [
    "**Step 3:** Lets calculate the Friedman statistic and Iman and Davenport correction:"
   ]
  },
  {
   "cell_type": "code",
   "execution_count": 50,
   "metadata": {},
   "outputs": [
    {
     "name": "stdout",
     "output_type": "stream",
     "text": [
      "Friedman statistic: 29.00000000000002 pvalue: 7.817388769802184e-06\n"
     ]
    }
   ],
   "source": [
    "# Friedman statistic\n",
    "M = len(df.columns)\n",
    "N = len(df)\n",
    "\n",
    "aux1 = M*(M+1)\n",
    "aux2 = (R**2).sum()\n",
    "chi2F = (12 * N / aux1) * (aux2 - aux1*(M+1)/4.0)\n",
    "\n",
    "# p-value\n",
    "p_chi2F = chi2.sf(chi2F, M-1)\n",
    "print('Friedman statistic:', chi2F, 'pvalue:', p_chi2F)"
   ]
  },
  {
   "cell_type": "code",
   "execution_count": 51,
   "metadata": {},
   "outputs": [
    {
     "name": "stdout",
     "output_type": "stream",
     "text": [
      "Iman-Davenport statistic: 16.789473684210556 pvalue: 1.996893379071801e-08\n"
     ]
    }
   ],
   "source": [
    "# Iman/Davenport statistic\n",
    "FF = (D-1)*chi2F /(D*(M-1)-chi2F)\n",
    "\n",
    "# p-value:\n",
    "p_FF = f.sf(FF, M-1, (M-1)*(D-1))\n",
    "print('Iman-Davenport statistic:', FF, 'pvalue:', p_FF)"
   ]
  },
  {
   "cell_type": "markdown",
   "metadata": {},
   "source": [
    "**Step 4:** We already calculated the p-value and in both cases is below the critical level of $\\alpha=0.05$ so we can reject the null, but just in case, let's look at the critical value for the $\\chi^2$ distribution with 4 degrees of freedom for $\\alpha=0.05$ and the critical value for the $F$ distribution with $5-1=4$ and $(5-1)\\cdot(12-1) = 44$ degrees of freedom for $\\alpha=0.05$."
   ]
  },
  {
   "cell_type": "code",
   "execution_count": 58,
   "metadata": {},
   "outputs": [
    {
     "name": "stdout",
     "output_type": "stream",
     "text": [
      "The critical value of chi2(4): 9.487729036781154 The critical value of F(4,44): 2.583667426803002\n"
     ]
    }
   ],
   "source": [
    "cc = chi2.ppf(0.95,4)\n",
    "cf = f.ppf(0.95, M-1, (M-1)*(D-1))\n",
    "\n",
    "print('The critical value of chi2(4):', cc, 'The critical value of F(4,44):', cf)"
   ]
  },
  {
   "cell_type": "markdown",
   "metadata": {},
   "source": [
    "We can calculate Friedman test using scipy"
   ]
  },
  {
   "cell_type": "code",
   "execution_count": 55,
   "metadata": {},
   "outputs": [
    {
     "data": {
      "text/plain": [
       "FriedmanchisquareResult(statistic=29.0, pvalue=7.817388769802272e-06)"
      ]
     },
     "execution_count": 55,
     "metadata": {},
     "output_type": "execute_result"
    }
   ],
   "source": [
    "from scipy.stats import friedmanchisquare as friedman\n",
    "friedman(*df.T.values)"
   ]
  },
  {
   "cell_type": "markdown",
   "metadata": {},
   "source": [
    "😎 it's the same result as we calculated!"
   ]
  }
 ],
 "metadata": {
  "kernelspec": {
   "display_name": "Python 3",
   "language": "python",
   "name": "python3"
  },
  "language_info": {
   "codemirror_mode": {
    "name": "ipython",
    "version": 3
   },
   "file_extension": ".py",
   "mimetype": "text/x-python",
   "name": "python",
   "nbconvert_exporter": "python",
   "pygments_lexer": "ipython3",
   "version": "3.6.12"
  }
 },
 "nbformat": 4,
 "nbformat_minor": 4
}
