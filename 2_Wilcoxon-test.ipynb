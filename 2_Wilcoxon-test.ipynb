{
 "cells": [
  {
   "cell_type": "code",
   "execution_count": 84,
   "id": "d499d2e3",
   "metadata": {},
   "outputs": [],
   "source": [
    "import pandas as pd\n",
    "import numpy as np\n",
    "from scipy.stats import chi2\n",
    "from scipy.stats import f\n",
    "from scipy.stats import norm\n",
    "from scipy.stats import wilcoxon\n"
   ]
  },
  {
   "cell_type": "code",
   "execution_count": 290,
   "id": "0eec227a",
   "metadata": {},
   "outputs": [],
   "source": [
    "# Open the csv file with the accuracies from 5 time-series classifiers on 12 datasets\n",
    "df = pd.read_csv(\"./data/ts_accs.csv\", index_col=\"TESTACC\")\n",
    "df.index.rename(\"\", inplace=True)\n",
    "df = df[['TS-CHIEF', 'WEASEL']]"
   ]
  },
  {
   "cell_type": "code",
   "execution_count": 291,
   "id": "6697472d",
   "metadata": {},
   "outputs": [],
   "source": [
    "df = df.iloc[:8]"
   ]
  },
  {
   "cell_type": "code",
   "execution_count": 292,
   "id": "f42dc8ab",
   "metadata": {},
   "outputs": [],
   "source": [
    "# df = df.round(2)"
   ]
  },
  {
   "cell_type": "code",
   "execution_count": 293,
   "id": "e062d639",
   "metadata": {},
   "outputs": [],
   "source": [
    "df['Diff'] = df['TS-CHIEF'] - df['WEASEL']"
   ]
  },
  {
   "cell_type": "code",
   "execution_count": 294,
   "id": "d572a8c3",
   "metadata": {},
   "outputs": [],
   "source": [
    "df['Rank'] = df.Diff.abs().rank()"
   ]
  },
  {
   "cell_type": "code",
   "execution_count": 295,
   "id": "4b8e6a67",
   "metadata": {},
   "outputs": [
    {
     "data": {
      "text/html": [
       "<div>\n",
       "<style scoped>\n",
       "    .dataframe tbody tr th:only-of-type {\n",
       "        vertical-align: middle;\n",
       "    }\n",
       "\n",
       "    .dataframe tbody tr th {\n",
       "        vertical-align: top;\n",
       "    }\n",
       "\n",
       "    .dataframe thead th {\n",
       "        text-align: right;\n",
       "    }\n",
       "</style>\n",
       "<table border=\"1\" class=\"dataframe\">\n",
       "  <thead>\n",
       "    <tr style=\"text-align: right;\">\n",
       "      <th></th>\n",
       "      <th>TS-CHIEF</th>\n",
       "      <th>WEASEL</th>\n",
       "      <th>Diff</th>\n",
       "      <th>Rank</th>\n",
       "    </tr>\n",
       "    <tr>\n",
       "      <th></th>\n",
       "      <th></th>\n",
       "      <th></th>\n",
       "      <th></th>\n",
       "      <th></th>\n",
       "    </tr>\n",
       "  </thead>\n",
       "  <tbody>\n",
       "    <tr>\n",
       "      <th>Beef</th>\n",
       "      <td>0.632222</td>\n",
       "      <td>0.740000</td>\n",
       "      <td>-0.107778</td>\n",
       "      <td>8.0</td>\n",
       "    </tr>\n",
       "    <tr>\n",
       "      <th>BME</th>\n",
       "      <td>0.996444</td>\n",
       "      <td>0.947778</td>\n",
       "      <td>0.048667</td>\n",
       "      <td>7.0</td>\n",
       "    </tr>\n",
       "    <tr>\n",
       "      <th>Car</th>\n",
       "      <td>0.878889</td>\n",
       "      <td>0.834444</td>\n",
       "      <td>0.044444</td>\n",
       "      <td>6.0</td>\n",
       "    </tr>\n",
       "    <tr>\n",
       "      <th>CBF</th>\n",
       "      <td>0.998444</td>\n",
       "      <td>0.979778</td>\n",
       "      <td>0.018667</td>\n",
       "      <td>3.0</td>\n",
       "    </tr>\n",
       "    <tr>\n",
       "      <th>Crop</th>\n",
       "      <td>0.762101</td>\n",
       "      <td>0.723825</td>\n",
       "      <td>0.038276</td>\n",
       "      <td>5.0</td>\n",
       "    </tr>\n",
       "    <tr>\n",
       "      <th>Fish</th>\n",
       "      <td>0.981524</td>\n",
       "      <td>0.950857</td>\n",
       "      <td>0.030667</td>\n",
       "      <td>4.0</td>\n",
       "    </tr>\n",
       "    <tr>\n",
       "      <th>Ham</th>\n",
       "      <td>0.805079</td>\n",
       "      <td>0.821270</td>\n",
       "      <td>-0.016190</td>\n",
       "      <td>2.0</td>\n",
       "    </tr>\n",
       "    <tr>\n",
       "      <th>Meat</th>\n",
       "      <td>0.984444</td>\n",
       "      <td>0.976667</td>\n",
       "      <td>0.007778</td>\n",
       "      <td>1.0</td>\n",
       "    </tr>\n",
       "  </tbody>\n",
       "</table>\n",
       "</div>"
      ],
      "text/plain": [
       "      TS-CHIEF    WEASEL      Diff  Rank\n",
       "                                        \n",
       "Beef  0.632222  0.740000 -0.107778   8.0\n",
       "BME   0.996444  0.947778  0.048667   7.0\n",
       "Car   0.878889  0.834444  0.044444   6.0\n",
       "CBF   0.998444  0.979778  0.018667   3.0\n",
       "Crop  0.762101  0.723825  0.038276   5.0\n",
       "Fish  0.981524  0.950857  0.030667   4.0\n",
       "Ham   0.805079  0.821270 -0.016190   2.0\n",
       "Meat  0.984444  0.976667  0.007778   1.0"
      ]
     },
     "execution_count": 295,
     "metadata": {},
     "output_type": "execute_result"
    }
   ],
   "source": [
    "df"
   ]
  },
  {
   "cell_type": "code",
   "execution_count": 296,
   "id": "3d8bc720",
   "metadata": {},
   "outputs": [
    {
     "data": {
      "text/plain": [
       "26.0"
      ]
     },
     "execution_count": 296,
     "metadata": {},
     "output_type": "execute_result"
    }
   ],
   "source": [
    "Rplus = df[df.Diff>0].Rank.sum()\n",
    "Rplus"
   ]
  },
  {
   "cell_type": "code",
   "execution_count": 297,
   "id": "92bd5998",
   "metadata": {},
   "outputs": [
    {
     "data": {
      "text/plain": [
       "10.0"
      ]
     },
     "execution_count": 297,
     "metadata": {},
     "output_type": "execute_result"
    }
   ],
   "source": [
    "Rminus = df[df.Diff<0].Rank.sum()\n",
    "Rminus"
   ]
  },
  {
   "cell_type": "code",
   "execution_count": 298,
   "id": "2ece66b4",
   "metadata": {},
   "outputs": [
    {
     "data": {
      "text/plain": [
       "10.0"
      ]
     },
     "execution_count": 298,
     "metadata": {},
     "output_type": "execute_result"
    }
   ],
   "source": [
    "T = min(Rplus, Rminus)\n",
    "T"
   ]
  },
  {
   "cell_type": "code",
   "execution_count": 299,
   "id": "41714c49",
   "metadata": {},
   "outputs": [
    {
     "data": {
      "text/plain": [
       "WilcoxonResult(statistic=10.0, pvalue=0.3125)"
      ]
     },
     "execution_count": 299,
     "metadata": {},
     "output_type": "execute_result"
    }
   ],
   "source": [
    "wilcoxon(df.Diff.values, mode='exact')"
   ]
  },
  {
   "cell_type": "code",
   "execution_count": null,
   "id": "6d865073",
   "metadata": {},
   "outputs": [],
   "source": []
  }
 ],
 "metadata": {
  "kernelspec": {
   "display_name": "Python 3",
   "language": "python",
   "name": "python3"
  },
  "language_info": {
   "codemirror_mode": {
    "name": "ipython",
    "version": 3
   },
   "file_extension": ".py",
   "mimetype": "text/x-python",
   "name": "python",
   "nbconvert_exporter": "python",
   "pygments_lexer": "ipython3",
   "version": "3.6.13"
  }
 },
 "nbformat": 4,
 "nbformat_minor": 5
}
